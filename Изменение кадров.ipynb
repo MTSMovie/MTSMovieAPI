{
 "cells": [
  {
   "cell_type": "code",
   "execution_count": 8,
   "metadata": {},
   "outputs": [
    {
     "name": "stdout",
     "output_type": "stream",
     "text": [
      "Defaulting to user installation because normal site-packages is not writeable\n",
      "Collecting opencv-python\n",
      "  Downloading opencv_python-4.7.0.72-cp37-abi3-win_amd64.whl (38.2 MB)\n",
      "     ---------------------------------------- 38.2/38.2 MB 2.8 MB/s eta 0:00:00\n",
      "Requirement already satisfied: numpy>=1.19.3 in c:\\anaconda3\\lib\\site-packages (from opencv-python) (1.21.5)\n",
      "Installing collected packages: opencv-python\n",
      "Successfully installed opencv-python-4.7.0.72\n"
     ]
    }
   ],
   "source": [
    "!pip install opencv-python"
   ]
  },
  {
   "cell_type": "code",
   "execution_count": 3,
   "metadata": {},
   "outputs": [],
   "source": [
    "import numpy as np\n",
    "import skimage.color\n",
    "import skimage.util\n",
    "import matplotlib.pyplot as plt\n",
    "import argparse\n",
    "import cv2\n",
    "from daltonize import daltonize"
   ]
  },
  {
   "cell_type": "markdown",
   "metadata": {},
   "source": [
    "### Адаптация изображения для трех типов дальтоников"
   ]
  },
  {
   "cell_type": "markdown",
   "metadata": {},
   "source": [
    "Основной тест: https://www.colorblindnesstest.org/color-vision-test/ (3 типа дальтоников)"
   ]
  },
  {
   "cell_type": "markdown",
   "metadata": {},
   "source": [
    "type_of_d определяется по тесту (t, d, p) !"
   ]
  },
  {
   "cell_type": "code",
   "execution_count": 3,
   "metadata": {},
   "outputs": [],
   "source": [
    "def convert_daltonize(frame, type_of_d):\n",
    "    \n",
    "    orig_frame = cv2.cvtColor(frame, cv2.COLOR_BGR2RGB)\n",
    "    orig_frame = np.asarray(orig_frame, dtype=np.float16)\n",
    "    orig_frame = daltonize.gamma_correction(orig_frame)\n",
    "    \n",
    "    simul_rgb = daltonize.daltonize(orig_frame, color_deficit=type_of_d)\n",
    "    simul_img = np.array(daltonize.array_to_img(simul_rgb, gamma=2.4))\n",
    "    \n",
    "    daltonize_image = cv2.cvtColor(simul_img, cv2.COLOR_RGB2BGR)\n",
    "    \n",
    "    return daltonize_image"
   ]
  },
  {
   "cell_type": "code",
   "execution_count": 4,
   "metadata": {},
   "outputs": [],
   "source": [
    "cap = cv2.VideoCapture('/Users/speedyracer/Downloads/Golovolomka.mp4')\n",
    "\n",
    "while True:\n",
    "    ret, frame = cap.read()\n",
    "    if not ret:\n",
    "        break\n",
    "    \n",
    "    frame = convert_daltonize(frame, type_of_d='p') ## нужно менять тип!!!!\n",
    "\n",
    "    cv2.imshow('video', frame)\n",
    "    if cv2.waitKey(1) == ord('q'):\n",
    "        break\n",
    "\n",
    "cap.release()\n",
    "cv2.destroyAllWindows()"
   ]
  },
  {
   "cell_type": "markdown",
   "metadata": {},
   "source": [
    "### Включение/выключение (заблюривание) сцен, которые могут вызвать эпилептический припадок"
   ]
  },
  {
   "cell_type": "code",
   "execution_count": 2,
   "metadata": {},
   "outputs": [
    {
     "data": {
      "image/png": "[encoded data removed]",
      "text/plain": [
       "<Figure size 432x288 with 1 Axes>"
      ]
     },
     "metadata": {
      "needs_background": "light"
     },
     "output_type": "display_data"
    }
   ],
   "source": [
    "cap = cv2.VideoCapture('/Users/speedyracer/Downloads/Golovolomka.mp4')\n",
    "\n",
    "# Создание пустых списков для хранения данных о яркости\n",
    "brightness_values = []\n",
    "frame_numbers = []\n",
    "dangerous_area = []\n",
    "\n",
    "# Чтение кадров из видеофайла\n",
    "while cap.isOpened():\n",
    "    ret, frame = cap.read()\n",
    "    if not ret:\n",
    "        break\n",
    "\n",
    "    # Преобразование кадра в оттенки серого\n",
    "    gray = cv2.cvtColor(frame, cv2.COLOR_BGR2GRAY)\n",
    "\n",
    "    # Вычисление средней яркости кадра и добавление ее в список\n",
    "    brightness = np.mean(gray)\n",
    "    brightness_values.append(brightness)\n",
    "\n",
    "    # Добавление номера кадра в список\n",
    "    frame_number = cap.get(cv2.CAP_PROP_POS_FRAMES)\n",
    "    frame_numbers.append(frame_number)\n",
    "    \n",
    "    if brightness >= 200:\n",
    "        dangerous_area.append(frame_number)\n",
    "\n",
    "# Закрытие видеофайла\n",
    "cap.release()\n",
    "\n",
    "max_frame = int(max(frame_numbers))\n",
    "\n",
    "fig, ax = plt.subplots()\n",
    "\n",
    "ax.hlines(200, 0, max_frame, color = 'r')\n",
    "\n",
    "# Создание диаграммы яркости\n",
    "plt.plot(frame_numbers, brightness_values)\n",
    "plt.xlabel('Номер кадра')\n",
    "plt.ylabel('Яркость в люменах')\n",
    "plt.show()"
   ]
  },
  {
   "cell_type": "code",
   "execution_count": 9,
   "metadata": {},
   "outputs": [],
   "source": [
    "cap = cv2.VideoCapture('/Users/speedyracer/Downloads/Golovolomka.mp4')\n",
    "\n",
    "# проверка открытия файла\n",
    "if not cap.isOpened():\n",
    "    print(\"Ошибка открытия файла\")\n",
    "\n",
    "# установка начального кадра\n",
    "cap.set(cv2.CAP_PROP_POS_FRAMES, 0)\n",
    "\n",
    "# цикл по всем кадрам\n",
    "while cap.isOpened():\n",
    "    # чтение кадра\n",
    "    ret, frame = cap.read()\n",
    "\n",
    "    # проверка наличия кадра\n",
    "    if not ret:\n",
    "        break\n",
    "\n",
    "    # получение номера текущего кадра\n",
    "    frame_number = cap.get(cv2.CAP_PROP_POS_FRAMES)\n",
    "\n",
    "    # проверка номера кадра для изменения контрастности\n",
    "    if frame_number in dangerous_area:\n",
    "        frame = cv2.blur(frame, (20, 20))\n",
    "\n",
    "        # отображение кадра\n",
    "    cv2.imshow('video', frame) # показываем все кадры, можно табнуть и показывать только опасные кадры\n",
    "\n",
    "    # ожидание нажатия клавиши 'q' для выхода из цикла\n",
    "    if cv2.waitKey(50) & 0xFF == ord('q'):\n",
    "        break\n",
    "\n",
    "# освобождение ресурсов\n",
    "cap.release()\n",
    "cv2.destroyAllWindows()"
   ]
  },
  {
   "cell_type": "markdown",
   "metadata": {},
   "source": [
    "### Настройка цветовой палитры (изменение спектра цветов) изображения"
   ]
  },
  {
   "cell_type": "markdown",
   "metadata": {},
   "source": [
    "Все возможные палитры: https://docs.opencv.org/4.x/d3/d50/group__imgproc__colormap.html"
   ]
  },
  {
   "cell_type": "code",
   "execution_count": 3,
   "metadata": {},
   "outputs": [],
   "source": [
    "cap = cv2.VideoCapture('/Users/speedyracer/Downloads/Golovolomka.mp4')\n",
    "\n",
    "while cap.isOpened():\n",
    "    ret, frame = cap.read()\n",
    "\n",
    "    jet_frame = cv2.applyColorMap(frame, cv2.COLORMAP_AUTUMN)\n",
    "\n",
    "    cv2.imshow('Color Mapped Video', jet_frame)\n",
    "\n",
    "    if cv2.waitKey(1) & 0xFF == ord('q'):\n",
    "        break\n",
    "\n",
    "cap.release()\n",
    "cv2.destroyAllWindows()"
   ]
  },
  {
   "cell_type": "markdown",
   "metadata": {},
   "source": [
    "### Настройка яркости, контрастности, насыщенности, резкости изображения"
   ]
  },
  {
   "cell_type": "markdown",
   "metadata": {},
   "source": [
    "alpha: если alpha> 1, коэффициент контрастности выходного изображения увеличивается, если 0 < alpha <1, коэффициент контрастности уменьшается\n",
    "\n",
    "beta: При beta > 0 яркость увеличивается, а при beta < 0 яркость уменьшается\n",
    "\n",
    "sat:  0 (не насыщенная картинка) < sat < 255 (очень насыщенная картинка)\n",
    "\n",
    "kernel: можно выбирать любое ядро (5 шт.) для изменения резкости из обучалки по ссылке: https://www.askpython.com/python-modules/opencv-filter2d"
   ]
  },
  {
   "cell_type": "code",
   "execution_count": 4,
   "metadata": {},
   "outputs": [],
   "source": [
    "alpha = 0.5\n",
    "beta = 0\n",
    "sat = 0.1\n",
    "kernel = np.array([[-1, -1, -1],\n",
    "                    [-1, 8, -1],\n",
    "                    [-1, -1, -1]])\n",
    "\n",
    "cap = cv2.VideoCapture('/Users/speedyracer/Downloads/Golovolomka.mp4')\n",
    "\n",
    "while True:\n",
    "    ret, frame = cap.read()\n",
    "    if not ret:\n",
    "        break\n",
    "\n",
    "    # Изменение яркости, контрастности и насыщенности\n",
    "    # ВСЕ ЗАВИСИТ ОТ ПРЕСЕТОВ\n",
    "    alpha = alpha  # контрастность\n",
    "    beta = beta    # яркость\n",
    "    saturation = sat   # насыщенность\n",
    "\n",
    "    # Изменение контрастности и яркости\n",
    "    frame = cv2.convertScaleAbs(frame, alpha=alpha, beta=beta)\n",
    "\n",
    "    # Изменение насыщенности\n",
    "    frame = cv2.cvtColor(frame, cv2.COLOR_BGR2HSV)\n",
    "    h, s, v = cv2.split(frame)\n",
    "    s = cv2.add(s, saturation)\n",
    "    s = cv2.min(s, 255)\n",
    "    frame = cv2.merge((h, s, v))\n",
    "    frame = cv2.cvtColor(frame, cv2.COLOR_HSV2BGR)\n",
    "    \n",
    "    kernel = kernel\n",
    "    \n",
    "    frame = cv2.filter2D(frame, -1, kernel)\n",
    "\n",
    "    cv2.imshow('video', frame)\n",
    "    if cv2.waitKey(1) == ord('q'):\n",
    "        break\n",
    "\n",
    "cap.release()\n",
    "cv2.destroyAllWindows()"
   ]
  }
 ],
 "metadata": {
  "kernelspec": {
   "display_name": "Python 3",
   "language": "python",
   "name": "python3"
  },
  "language_info": {
   "codemirror_mode": {
    "name": "ipython",
    "version": 3
   },
   "file_extension": ".py",
   "mimetype": "text/x-python",
   "name": "python",
   "nbconvert_exporter": "python",
   "pygments_lexer": "ipython3",
   "version": "3.8.2"
  }
 },
 "nbformat": 4,
 "nbformat_minor": 5
}
